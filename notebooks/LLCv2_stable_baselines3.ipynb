{
  "nbformat": 4,
  "nbformat_minor": 0,
  "metadata": {
    "accelerator": "GPU",
    "colab": {
      "name": "continousGymEnvAlgs_Pendulum-v0.ipynb",
      "provenance": [],
      "collapsed_sections": [],
      "toc_visible": true,
      "authorship_tag": "ABX9TyOjinp58yy6lAyZ76HwwR1p",
      "include_colab_link": true
    },
    "kernelspec": {
      "display_name": "Python 3",
      "language": "python",
      "name": "python3"
    },
    "language_info": {
      "codemirror_mode": {
        "name": "ipython",
        "version": 3
      },
      "file_extension": ".py",
      "mimetype": "text/x-python",
      "name": "python",
      "nbconvert_exporter": "python",
      "pygments_lexer": "ipython3",
      "version": "3.7.7"
    }
  },
  "cells": [
    {
      "cell_type": "markdown",
      "metadata": {
        "id": "view-in-github",
        "colab_type": "text"
      },
      "source": [
        "<a href=\"https://colab.research.google.com/github/rsglick/drl/blob/master/notebooks/LLCv2_stable_baselines3.ipynb\" target=\"_parent\"><img src=\"https://colab.research.google.com/assets/colab-badge.svg\" alt=\"Open In Colab\"/></a>"
      ]
    },
    {
      "cell_type": "code",
      "metadata": {
        "colab_type": "code",
        "id": "kaM9X1bbGdWW",
        "outputId": "a71fdf93-ff50-4dd3-90d5-10d3fb40d6cf",
        "colab": {
          "base_uri": "https://localhost:8080/",
          "height": 1000
        }
      },
      "source": [
        "%%bash\n",
        "\n",
        "apt-get install -y xvfb x11-utils python-opengl swig cmake ffmpeg freeglut3-dev\n",
        "\n",
        "pip install Box2D box2d-py box2d-kengz gym[box2d] gym[Box_2D]\\\n",
        "            pyvirtualdisplay\\\n",
        "            PyOpenGL\\\n",
        "            piglet\\\n",
        "            piglet-templates\\\n",
        "            PyOpenGL-accelerate\\\n",
        "            stable-baselines3[extra]"
      ],
      "execution_count": 1,
      "outputs": [
        {
          "output_type": "stream",
          "text": [
            "Reading package lists...\n",
            "Building dependency tree...\n",
            "Reading state information...\n",
            "freeglut3-dev is already the newest version (2.8.1-3).\n",
            "freeglut3-dev set to manually installed.\n",
            "cmake is already the newest version (3.10.2-1ubuntu2.18.04.1).\n",
            "ffmpeg is already the newest version (7:3.4.6-0ubuntu0.18.04.1).\n",
            "The following additional packages will be installed:\n",
            "  libxxf86dga1 swig3.0\n",
            "Suggested packages:\n",
            "  libgle3 swig-doc swig-examples swig3.0-examples swig3.0-doc mesa-utils\n",
            "The following NEW packages will be installed:\n",
            "  libxxf86dga1 python-opengl swig swig3.0 x11-utils xvfb\n",
            "0 upgraded, 6 newly installed, 0 to remove and 31 not upgraded.\n",
            "Need to get 2,590 kB of archives.\n",
            "After this operation, 14.2 MB of additional disk space will be used.\n",
            "Get:1 http://archive.ubuntu.com/ubuntu bionic/main amd64 libxxf86dga1 amd64 2:1.1.4-1 [13.7 kB]\n",
            "Get:2 http://archive.ubuntu.com/ubuntu bionic/universe amd64 python-opengl all 3.1.0+dfsg-1 [496 kB]\n",
            "Get:3 http://archive.ubuntu.com/ubuntu bionic/universe amd64 swig3.0 amd64 3.0.12-1 [1,094 kB]\n",
            "Get:4 http://archive.ubuntu.com/ubuntu bionic/universe amd64 swig amd64 3.0.12-1 [6,460 B]\n",
            "Get:5 http://archive.ubuntu.com/ubuntu bionic/main amd64 x11-utils amd64 7.7+3build1 [196 kB]\n",
            "Get:6 http://archive.ubuntu.com/ubuntu bionic-updates/universe amd64 xvfb amd64 2:1.19.6-1ubuntu4.4 [784 kB]\n",
            "Fetched 2,590 kB in 1s (2,880 kB/s)\n",
            "Selecting previously unselected package libxxf86dga1:amd64.\r\n",
            "(Reading database ... \r(Reading database ... 5%\r(Reading database ... 10%\r(Reading database ... 15%\r(Reading database ... 20%\r(Reading database ... 25%\r(Reading database ... 30%\r(Reading database ... 35%\r(Reading database ... 40%\r(Reading database ... 45%\r(Reading database ... 50%\r(Reading database ... 55%\r(Reading database ... 60%\r(Reading database ... 65%\r(Reading database ... 70%\r(Reading database ... 75%\r(Reading database ... 80%\r(Reading database ... 85%\r(Reading database ... 90%\r(Reading database ... 95%\r(Reading database ... 100%\r(Reading database ... 144439 files and directories currently installed.)\r\n",
            "Preparing to unpack .../0-libxxf86dga1_2%3a1.1.4-1_amd64.deb ...\r\n",
            "Unpacking libxxf86dga1:amd64 (2:1.1.4-1) ...\r\n",
            "Selecting previously unselected package python-opengl.\r\n",
            "Preparing to unpack .../1-python-opengl_3.1.0+dfsg-1_all.deb ...\r\n",
            "Unpacking python-opengl (3.1.0+dfsg-1) ...\r\n",
            "Selecting previously unselected package swig3.0.\r\n",
            "Preparing to unpack .../2-swig3.0_3.0.12-1_amd64.deb ...\r\n",
            "Unpacking swig3.0 (3.0.12-1) ...\r\n",
            "Selecting previously unselected package swig.\r\n",
            "Preparing to unpack .../3-swig_3.0.12-1_amd64.deb ...\r\n",
            "Unpacking swig (3.0.12-1) ...\r\n",
            "Selecting previously unselected package x11-utils.\r\n",
            "Preparing to unpack .../4-x11-utils_7.7+3build1_amd64.deb ...\r\n",
            "Unpacking x11-utils (7.7+3build1) ...\r\n",
            "Selecting previously unselected package xvfb.\r\n",
            "Preparing to unpack .../5-xvfb_2%3a1.19.6-1ubuntu4.4_amd64.deb ...\r\n",
            "Unpacking xvfb (2:1.19.6-1ubuntu4.4) ...\r\n",
            "Setting up python-opengl (3.1.0+dfsg-1) ...\r\n",
            "Setting up swig3.0 (3.0.12-1) ...\r\n",
            "Setting up xvfb (2:1.19.6-1ubuntu4.4) ...\r\n",
            "Setting up libxxf86dga1:amd64 (2:1.1.4-1) ...\r\n",
            "Setting up swig (3.0.12-1) ...\r\n",
            "Setting up x11-utils (7.7+3build1) ...\r\n",
            "Processing triggers for man-db (2.8.3-2ubuntu0.1) ...\r\n",
            "Processing triggers for libc-bin (2.27-3ubuntu1) ...\r\n",
            "/sbin/ldconfig.real: /usr/local/lib/python3.6/dist-packages/ideep4py/lib/libmkldnn.so.0 is not a symbolic link\r\n",
            "\r\n",
            "Collecting Box2D\n",
            "  Downloading https://files.pythonhosted.org/packages/a9/0b/d48d42dd9e19ce83a3fb4eee074e785b6c6ea612a2244dc2ef69427d338b/Box2D-2.3.10-cp36-cp36m-manylinux1_x86_64.whl (1.3MB)\n",
            "Collecting box2d-py\n",
            "  Downloading https://files.pythonhosted.org/packages/06/bd/6cdc3fd994b0649dcf5d9bad85bd9e26172308bbe9a421bfc6fdbf5081a6/box2d_py-2.3.8-cp36-cp36m-manylinux1_x86_64.whl (448kB)\n",
            "Collecting box2d-kengz\n",
            "  Downloading https://files.pythonhosted.org/packages/81/20/51d6c0c87f7642efb709c518fb0ca8e5eab068259588552c41da5926ae27/Box2D-kengz-2.3.3.tar.gz (425kB)\n",
            "Requirement already satisfied: gym[box2d] in /usr/local/lib/python3.6/dist-packages (0.17.2)\n",
            "Collecting pyvirtualdisplay\n",
            "  Downloading https://files.pythonhosted.org/packages/5d/46/88d77199d579d15b624dcd6470fe0de60ae2667deaec9d195de9f8a26959/PyVirtualDisplay-1.1-py2.py3-none-any.whl\n",
            "Requirement already satisfied: PyOpenGL in /usr/local/lib/python3.6/dist-packages (3.1.5)\n",
            "Collecting piglet\n",
            "  Downloading https://files.pythonhosted.org/packages/11/56/6840e5f45626dc7eb7cd5dff57d11880b3113723b3b7b1fb1fa537855b75/piglet-1.0.0-py2.py3-none-any.whl\n",
            "Collecting piglet-templates\n",
            "  Downloading https://files.pythonhosted.org/packages/d0/dc/d628dcdf0b38b8f230e9c2309bfa370d2e3fb95e9e9c260213d10fde91ac/piglet_templates-1.0.0-py3-none-any.whl (63kB)\n",
            "Collecting PyOpenGL-accelerate\n",
            "  Downloading https://files.pythonhosted.org/packages/a2/3c/f42a62b7784c04b20f8b88d6c8ad04f4f20b0767b721102418aad94d8389/PyOpenGL-accelerate-3.1.5.tar.gz (538kB)\n",
            "Collecting stable-baselines3[extra]\n",
            "  Downloading https://files.pythonhosted.org/packages/50/d4/1771784efd5838cf1f37de530be438ff69fa57d85078ee407501ab6ecdae/stable_baselines3-0.6.0a10-py3-none-any.whl (103kB)\n",
            "Requirement already satisfied: scipy in /usr/local/lib/python3.6/dist-packages (from gym[box2d]) (1.4.1)\n",
            "Requirement already satisfied: cloudpickle<1.4.0,>=1.2.0 in /usr/local/lib/python3.6/dist-packages (from gym[box2d]) (1.3.0)\n",
            "Requirement already satisfied: pyglet<=1.5.0,>=1.4.0 in /usr/local/lib/python3.6/dist-packages (from gym[box2d]) (1.5.0)\n",
            "Requirement already satisfied: numpy>=1.10.4 in /usr/local/lib/python3.6/dist-packages (from gym[box2d]) (1.18.4)\n",
            "Collecting EasyProcess\n",
            "  Downloading https://files.pythonhosted.org/packages/48/3c/75573613641c90c6d094059ac28adb748560d99bd27ee6f80cce398f404e/EasyProcess-0.3-py2.py3-none-any.whl\n",
            "Requirement already satisfied: astunparse in /usr/local/lib/python3.6/dist-packages (from piglet-templates) (1.6.3)\n",
            "Requirement already satisfied: attrs in /usr/local/lib/python3.6/dist-packages (from piglet-templates) (19.3.0)\n",
            "Requirement already satisfied: markupsafe in /usr/local/lib/python3.6/dist-packages (from piglet-templates) (1.1.1)\n",
            "Collecting Parsley\n",
            "  Downloading https://files.pythonhosted.org/packages/2b/d6/4fed8d65e28a970e1c5cb33ce9c7e22e3de745e1b2ae37af051ef16aea3b/Parsley-1.3-py2.py3-none-any.whl (88kB)\n",
            "Requirement already satisfied: torch>=1.4.0 in /usr/local/lib/python3.6/dist-packages (from stable-baselines3[extra]) (1.5.0+cu101)\n",
            "Requirement already satisfied: matplotlib in /usr/local/lib/python3.6/dist-packages (from stable-baselines3[extra]) (3.2.1)\n",
            "Requirement already satisfied: pandas in /usr/local/lib/python3.6/dist-packages (from stable-baselines3[extra]) (1.0.3)\n",
            "Requirement already satisfied: pillow; extra == \"extra\" in /usr/local/lib/python3.6/dist-packages (from stable-baselines3[extra]) (7.0.0)\n",
            "Requirement already satisfied: atari-py~=0.2.0; extra == \"extra\" in /usr/local/lib/python3.6/dist-packages (from stable-baselines3[extra]) (0.2.6)\n",
            "Requirement already satisfied: opencv-python; extra == \"extra\" in /usr/local/lib/python3.6/dist-packages (from stable-baselines3[extra]) (4.1.2.30)\n",
            "Requirement already satisfied: future in /usr/local/lib/python3.6/dist-packages (from pyglet<=1.5.0,>=1.4.0->gym[box2d]) (0.16.0)\n",
            "Requirement already satisfied: six<2.0,>=1.6.1 in /usr/local/lib/python3.6/dist-packages (from astunparse->piglet-templates) (1.12.0)\n",
            "Requirement already satisfied: wheel<1.0,>=0.23.0 in /usr/local/lib/python3.6/dist-packages (from astunparse->piglet-templates) (0.34.2)\n",
            "Requirement already satisfied: pyparsing!=2.0.4,!=2.1.2,!=2.1.6,>=2.0.1 in /usr/local/lib/python3.6/dist-packages (from matplotlib->stable-baselines3[extra]) (2.4.7)\n",
            "Requirement already satisfied: cycler>=0.10 in /usr/local/lib/python3.6/dist-packages (from matplotlib->stable-baselines3[extra]) (0.10.0)\n",
            "Requirement already satisfied: python-dateutil>=2.1 in /usr/local/lib/python3.6/dist-packages (from matplotlib->stable-baselines3[extra]) (2.8.1)\n",
            "Requirement already satisfied: kiwisolver>=1.0.1 in /usr/local/lib/python3.6/dist-packages (from matplotlib->stable-baselines3[extra]) (1.2.0)\n",
            "Requirement already satisfied: pytz>=2017.2 in /usr/local/lib/python3.6/dist-packages (from pandas->stable-baselines3[extra]) (2018.9)\n",
            "Building wheels for collected packages: box2d-kengz, PyOpenGL-accelerate\n",
            "  Building wheel for box2d-kengz (setup.py): started\n",
            "  Building wheel for box2d-kengz (setup.py): finished with status 'done'\n",
            "  Created wheel for box2d-kengz: filename=Box2D_kengz-2.3.3-cp36-cp36m-linux_x86_64.whl size=2032341 sha256=481df1941a08f62379fa9f38b6f1fd7eefc75d5906871af388b585c6e2190029\n",
            "  Stored in directory: /root/.cache/pip/wheels/75/ae/e5/8bc678d262caad94659c199c540550e59d03dd3bd3684d4f1a\n",
            "  Building wheel for PyOpenGL-accelerate (setup.py): started\n",
            "  Building wheel for PyOpenGL-accelerate (setup.py): finished with status 'done'\n",
            "  Created wheel for PyOpenGL-accelerate: filename=PyOpenGL_accelerate-3.1.5-cp36-cp36m-linux_x86_64.whl size=1593662 sha256=5a7cf0979195393d97cff0664d98ebff82f1363f0d06602e072e38952fd20285\n",
            "  Stored in directory: /root/.cache/pip/wheels/bd/21/77/99670ceca25fddb3c2b60a7ae44644b8253d1006e8ec417bcc\n",
            "Successfully built box2d-kengz PyOpenGL-accelerate\n",
            "Installing collected packages: Box2D, box2d-py, box2d-kengz, EasyProcess, pyvirtualdisplay, Parsley, piglet-templates, piglet, PyOpenGL-accelerate, stable-baselines3\n",
            "Successfully installed Box2D-2.3.10 EasyProcess-0.3 Parsley-1.3 PyOpenGL-accelerate-3.1.5 box2d-kengz-2.3.3 box2d-py-2.3.8 piglet-1.0.0 piglet-templates-1.0.0 pyvirtualdisplay-1.1 stable-baselines3-0.6.0a10\n"
          ],
          "name": "stdout"
        }
      ]
    },
    {
      "cell_type": "code",
      "metadata": {
        "colab_type": "code",
        "id": "CBiSvhyoGpWu",
        "colab": {}
      },
      "source": [
        "%matplotlib inline"
      ],
      "execution_count": 0,
      "outputs": []
    },
    {
      "cell_type": "code",
      "metadata": {
        "colab_type": "code",
        "id": "wQ-2FEM2GwnK",
        "colab": {}
      },
      "source": [
        "import gym\n",
        "import os\n",
        "import matplotlib.pyplot as plt\n",
        "import numpy as np\n",
        "from tqdm.auto import tqdm\n",
        "\n",
        "import torch\n",
        "\n",
        "from stable_baselines3 import PPO, SAC, TD3, A2C\n",
        "from stable_baselines3.common.evaluation import evaluate_policy\n",
        "\n",
        "from stable_baselines3.common.callbacks import BaseCallback\n",
        "from stable_baselines3.common.callbacks import EvalCallback\n",
        "from stable_baselines3.common.callbacks import StopTrainingOnRewardThreshold\n",
        "from stable_baselines3.common.callbacks import CheckpointCallback\n",
        "from stable_baselines3.common.callbacks import CallbackList\n",
        "\n",
        "from stable_baselines3.common import results_plotter\n",
        "from stable_baselines3.common.monitor import Monitor"
      ],
      "execution_count": 0,
      "outputs": []
    },
    {
      "cell_type": "markdown",
      "metadata": {
        "colab_type": "text",
        "id": "0LrLvWX9ICxi"
      },
      "source": [
        "# Create Continous Gym Environment\n",
        "\n",
        "\n"
      ]
    },
    {
      "cell_type": "code",
      "metadata": {
        "colab_type": "code",
        "id": "2ZCEdkl5Gvs3",
        "colab": {}
      },
      "source": [
        "# LunarLanderContinuous-v2\n",
        "# MountainCarContinuous-v0\n",
        "# Pendulum-v0\n",
        "\n",
        "env_name = \"LunarLanderContinuous-v2\"\n",
        "env = gym.make(env_name)\n",
        "\n",
        "# reward_threshold = -200 # For Pendulum-v0\n",
        "reward_threshold = 200 # LunarLanderContinuous-v2\n",
        "total_timesteps = 3000000\n",
        "\n",
        "log_dir = f\"./gym/{env_name}\"\n",
        "os.makedirs(log_dir, exist_ok=True)\n",
        "env = Monitor(env, log_dir)\n",
        "\n",
        "\n",
        "eval_env = gym.make(env_name)\n",
        "reward_threshold_callback = StopTrainingOnRewardThreshold(reward_threshold=reward_threshold, \n",
        "                                                          verbose=1)\n",
        "checkpoint_callback = CheckpointCallback(save_freq=1000, \n",
        "                                         save_path=log_dir)\n",
        "eval_callback = EvalCallback(eval_env, \n",
        "                             best_model_save_path=log_dir,\n",
        "                             deterministic=True,\n",
        "                             callback_on_new_best=reward_threshold_callback,\n",
        "                             log_path=log_dir, \n",
        "                             verbose=1,\n",
        "                             n_eval_episodes=5,\n",
        "                             eval_freq=1000)\n",
        "callback = CallbackList([checkpoint_callback, \n",
        "                         eval_callback])"
      ],
      "execution_count": 0,
      "outputs": []
    },
    {
      "cell_type": "code",
      "metadata": {
        "colab_type": "code",
        "id": "_7KsW0bTIknr",
        "colab": {}
      },
      "source": [
        ""
      ],
      "execution_count": 0,
      "outputs": []
    },
    {
      "cell_type": "markdown",
      "metadata": {
        "colab_type": "text",
        "id": "DhetAU8EHHsr"
      },
      "source": [
        "# SAC"
      ]
    },
    {
      "cell_type": "code",
      "metadata": {
        "id": "Wm63P8AcMIgi",
        "colab_type": "code",
        "colab": {
          "base_uri": "https://localhost:8080/",
          "height": 53
        },
        "outputId": "9dbc17cc-f97e-4cd2-edf3-2c90ce9c44fd"
      },
      "source": [
        "%%time\n",
        "\n",
        "sac_hyperparams = {\n",
        "    'learning_rate': 3.0e-4,\n",
        "    'buffer_size': 1000000,\n",
        "    'gamma': 0.99,\n",
        "    'batch_size':256,\n",
        "    'tau': 0.005,\n",
        "    'device':'cuda',\n",
        "}\n",
        "\n",
        "\n",
        "modelSAC = SAC('MlpPolicy', \n",
        "               env, \n",
        "               **sac_hyperparams)"
      ],
      "execution_count": 28,
      "outputs": [
        {
          "output_type": "stream",
          "text": [
            "CPU times: user 18.7 ms, sys: 33.1 ms, total: 51.8 ms\n",
            "Wall time: 53.3 ms\n"
          ],
          "name": "stdout"
        }
      ]
    },
    {
      "cell_type": "code",
      "metadata": {
        "id": "SqzCqsHyMLiw",
        "colab_type": "code",
        "colab": {
          "base_uri": "https://localhost:8080/",
          "height": 1000
        },
        "outputId": "bdcabc3b-8b1e-4b89-bd94-df37690106c4"
      },
      "source": [
        "%%time\n",
        "modelSAC.learn(total_timesteps=total_timesteps, \n",
        "               callback=callback)\n",
        "\n",
        "# Save the agent\n",
        "modelSAC.save(f\"{log_dir}/modelSAC_{env_name}\")\n",
        "del modelSAC"
      ],
      "execution_count": 29,
      "outputs": [
        {
          "output_type": "stream",
          "text": [
            "Eval num_timesteps=1000, episode_reward=-229.77 +/- 74.39\n",
            "Episode length: 259.80 +/- 92.92\n",
            "New best mean reward!\n",
            "Eval num_timesteps=2000, episode_reward=-193.68 +/- 53.27\n",
            "Episode length: 385.20 +/- 89.33\n",
            "New best mean reward!\n",
            "Eval num_timesteps=3000, episode_reward=-214.00 +/- 89.38\n",
            "Episode length: 714.20 +/- 216.37\n",
            "Eval num_timesteps=4000, episode_reward=-215.84 +/- 23.51\n",
            "Episode length: 535.40 +/- 128.10\n",
            "Eval num_timesteps=5000, episode_reward=-144.22 +/- 59.06\n",
            "Episode length: 983.00 +/- 34.00\n",
            "New best mean reward!\n",
            "Eval num_timesteps=6000, episode_reward=-85.10 +/- 11.57\n",
            "Episode length: 1000.00 +/- 0.00\n",
            "New best mean reward!\n",
            "Eval num_timesteps=7000, episode_reward=-80.87 +/- 21.11\n",
            "Episode length: 1000.00 +/- 0.00\n",
            "New best mean reward!\n",
            "Eval num_timesteps=8000, episode_reward=-130.99 +/- 18.21\n",
            "Episode length: 1000.00 +/- 0.00\n",
            "Eval num_timesteps=9000, episode_reward=-72.64 +/- 15.92\n",
            "Episode length: 1000.00 +/- 0.00\n",
            "New best mean reward!\n",
            "Eval num_timesteps=10000, episode_reward=-58.94 +/- 24.42\n",
            "Episode length: 1000.00 +/- 0.00\n",
            "New best mean reward!\n",
            "Eval num_timesteps=11000, episode_reward=-67.29 +/- 28.04\n",
            "Episode length: 1000.00 +/- 0.00\n",
            "Eval num_timesteps=12000, episode_reward=-92.36 +/- 38.23\n",
            "Episode length: 1000.00 +/- 0.00\n",
            "Eval num_timesteps=13000, episode_reward=-83.24 +/- 53.39\n",
            "Episode length: 953.60 +/- 92.80\n",
            "Eval num_timesteps=14000, episode_reward=-59.36 +/- 29.64\n",
            "Episode length: 1000.00 +/- 0.00\n",
            "Eval num_timesteps=15000, episode_reward=-111.25 +/- 76.86\n",
            "Episode length: 740.60 +/- 214.81\n",
            "Eval num_timesteps=16000, episode_reward=-135.06 +/- 92.13\n",
            "Episode length: 914.80 +/- 93.31\n",
            "Eval num_timesteps=17000, episode_reward=-56.64 +/- 55.42\n",
            "Episode length: 939.20 +/- 121.60\n",
            "New best mean reward!\n",
            "Eval num_timesteps=18000, episode_reward=-31.33 +/- 31.38\n",
            "Episode length: 1000.00 +/- 0.00\n",
            "New best mean reward!\n",
            "Eval num_timesteps=19000, episode_reward=-46.17 +/- 42.99\n",
            "Episode length: 1000.00 +/- 0.00\n",
            "Eval num_timesteps=20000, episode_reward=-100.24 +/- 98.58\n",
            "Episode length: 975.60 +/- 48.80\n",
            "Eval num_timesteps=21000, episode_reward=-49.76 +/- 28.11\n",
            "Episode length: 1000.00 +/- 0.00\n",
            "Eval num_timesteps=22000, episode_reward=-63.40 +/- 31.49\n",
            "Episode length: 1000.00 +/- 0.00\n",
            "Eval num_timesteps=23000, episode_reward=-91.63 +/- 20.71\n",
            "Episode length: 1000.00 +/- 0.00\n",
            "Eval num_timesteps=24000, episode_reward=-145.57 +/- 82.04\n",
            "Episode length: 620.60 +/- 335.11\n",
            "Eval num_timesteps=25000, episode_reward=-100.51 +/- 25.72\n",
            "Episode length: 1000.00 +/- 0.00\n",
            "Eval num_timesteps=26000, episode_reward=-69.40 +/- 33.43\n",
            "Episode length: 1000.00 +/- 0.00\n",
            "Eval num_timesteps=27000, episode_reward=-28.52 +/- 8.87\n",
            "Episode length: 1000.00 +/- 0.00\n",
            "New best mean reward!\n",
            "Eval num_timesteps=28000, episode_reward=-52.33 +/- 49.71\n",
            "Episode length: 998.20 +/- 3.60\n",
            "Eval num_timesteps=29000, episode_reward=-70.45 +/- 27.59\n",
            "Episode length: 1000.00 +/- 0.00\n",
            "Eval num_timesteps=30000, episode_reward=-89.45 +/- 10.39\n",
            "Episode length: 1000.00 +/- 0.00\n",
            "Eval num_timesteps=31000, episode_reward=-56.48 +/- 21.99\n",
            "Episode length: 1000.00 +/- 0.00\n",
            "Eval num_timesteps=32000, episode_reward=-53.63 +/- 28.34\n",
            "Episode length: 1000.00 +/- 0.00\n",
            "Eval num_timesteps=33000, episode_reward=-78.35 +/- 16.94\n",
            "Episode length: 1000.00 +/- 0.00\n",
            "Eval num_timesteps=34000, episode_reward=-75.57 +/- 39.17\n",
            "Episode length: 1000.00 +/- 0.00\n",
            "Eval num_timesteps=35000, episode_reward=-61.51 +/- 18.56\n",
            "Episode length: 1000.00 +/- 0.00\n",
            "Eval num_timesteps=36000, episode_reward=-47.42 +/- 20.89\n",
            "Episode length: 876.40 +/- 247.20\n",
            "Eval num_timesteps=37000, episode_reward=-206.13 +/- 252.84\n",
            "Episode length: 961.60 +/- 76.80\n",
            "Eval num_timesteps=38000, episode_reward=-46.47 +/- 48.77\n",
            "Episode length: 856.40 +/- 287.20\n",
            "Eval num_timesteps=39000, episode_reward=-64.32 +/- 44.23\n",
            "Episode length: 1000.00 +/- 0.00\n",
            "Eval num_timesteps=40000, episode_reward=-20.66 +/- 24.61\n",
            "Episode length: 1000.00 +/- 0.00\n",
            "New best mean reward!\n",
            "Eval num_timesteps=41000, episode_reward=-42.63 +/- 39.89\n",
            "Episode length: 1000.00 +/- 0.00\n",
            "Eval num_timesteps=42000, episode_reward=-57.07 +/- 27.66\n",
            "Episode length: 1000.00 +/- 0.00\n",
            "Eval num_timesteps=43000, episode_reward=-52.57 +/- 100.84\n",
            "Episode length: 547.00 +/- 387.55\n",
            "Eval num_timesteps=44000, episode_reward=-62.58 +/- 61.39\n",
            "Episode length: 742.80 +/- 339.93\n",
            "Eval num_timesteps=45000, episode_reward=-72.08 +/- 73.43\n",
            "Episode length: 895.40 +/- 209.20\n",
            "Eval num_timesteps=46000, episode_reward=-80.82 +/- 120.85\n",
            "Episode length: 948.80 +/- 102.40\n",
            "Eval num_timesteps=47000, episode_reward=-57.68 +/- 53.32\n",
            "Episode length: 398.40 +/- 308.81\n",
            "Eval num_timesteps=48000, episode_reward=-114.69 +/- 107.52\n",
            "Episode length: 969.00 +/- 62.00\n",
            "Eval num_timesteps=49000, episode_reward=-86.75 +/- 105.39\n",
            "Episode length: 586.20 +/- 365.65\n",
            "Eval num_timesteps=50000, episode_reward=-86.54 +/- 39.50\n",
            "Episode length: 521.20 +/- 320.46\n",
            "Eval num_timesteps=51000, episode_reward=-63.22 +/- 54.83\n",
            "Episode length: 530.20 +/- 330.92\n",
            "Eval num_timesteps=52000, episode_reward=-63.91 +/- 31.81\n",
            "Episode length: 929.80 +/- 140.40\n",
            "Eval num_timesteps=53000, episode_reward=-68.91 +/- 53.17\n",
            "Episode length: 379.00 +/- 193.26\n",
            "Eval num_timesteps=54000, episode_reward=-116.12 +/- 104.21\n",
            "Episode length: 694.20 +/- 331.31\n",
            "Eval num_timesteps=55000, episode_reward=-76.28 +/- 38.40\n",
            "Episode length: 858.60 +/- 282.80\n",
            "Eval num_timesteps=56000, episode_reward=-153.22 +/- 76.77\n",
            "Episode length: 609.40 +/- 225.87\n",
            "Eval num_timesteps=57000, episode_reward=-31.62 +/- 11.64\n",
            "Episode length: 1000.00 +/- 0.00\n",
            "Eval num_timesteps=58000, episode_reward=-50.65 +/- 11.73\n",
            "Episode length: 1000.00 +/- 0.00\n",
            "Eval num_timesteps=59000, episode_reward=-35.50 +/- 14.30\n",
            "Episode length: 1000.00 +/- 0.00\n",
            "Eval num_timesteps=60000, episode_reward=-67.23 +/- 11.20\n",
            "Episode length: 1000.00 +/- 0.00\n",
            "Eval num_timesteps=61000, episode_reward=-42.31 +/- 17.50\n",
            "Episode length: 1000.00 +/- 0.00\n",
            "Eval num_timesteps=62000, episode_reward=-49.60 +/- 15.24\n",
            "Episode length: 1000.00 +/- 0.00\n",
            "Eval num_timesteps=63000, episode_reward=-35.46 +/- 14.34\n",
            "Episode length: 1000.00 +/- 0.00\n",
            "Eval num_timesteps=64000, episode_reward=-37.43 +/- 36.67\n",
            "Episode length: 1000.00 +/- 0.00\n",
            "Eval num_timesteps=65000, episode_reward=-41.79 +/- 14.83\n",
            "Episode length: 1000.00 +/- 0.00\n",
            "Eval num_timesteps=66000, episode_reward=-53.75 +/- 34.21\n",
            "Episode length: 1000.00 +/- 0.00\n",
            "Eval num_timesteps=67000, episode_reward=-41.29 +/- 19.62\n",
            "Episode length: 1000.00 +/- 0.00\n",
            "Eval num_timesteps=68000, episode_reward=-32.22 +/- 15.92\n",
            "Episode length: 1000.00 +/- 0.00\n",
            "Eval num_timesteps=69000, episode_reward=-63.52 +/- 49.18\n",
            "Episode length: 824.00 +/- 352.00\n",
            "Eval num_timesteps=70000, episode_reward=-126.98 +/- 41.93\n",
            "Episode length: 307.60 +/- 346.39\n",
            "Eval num_timesteps=71000, episode_reward=-18.51 +/- 23.04\n",
            "Episode length: 1000.00 +/- 0.00\n",
            "New best mean reward!\n",
            "Eval num_timesteps=72000, episode_reward=-21.27 +/- 21.98\n",
            "Episode length: 1000.00 +/- 0.00\n",
            "Eval num_timesteps=73000, episode_reward=-61.29 +/- 40.48\n",
            "Episode length: 823.00 +/- 354.00\n",
            "Eval num_timesteps=74000, episode_reward=-80.36 +/- 69.49\n",
            "Episode length: 641.00 +/- 439.74\n",
            "Eval num_timesteps=75000, episode_reward=-54.35 +/- 36.01\n",
            "Episode length: 826.00 +/- 348.00\n",
            "Eval num_timesteps=76000, episode_reward=-3.16 +/- 28.50\n",
            "Episode length: 1000.00 +/- 0.00\n",
            "New best mean reward!\n",
            "Eval num_timesteps=77000, episode_reward=7.07 +/- 30.77\n",
            "Episode length: 1000.00 +/- 0.00\n",
            "New best mean reward!\n",
            "Eval num_timesteps=78000, episode_reward=-33.08 +/- 29.17\n",
            "Episode length: 1000.00 +/- 0.00\n",
            "Eval num_timesteps=79000, episode_reward=-46.90 +/- 14.54\n",
            "Episode length: 1000.00 +/- 0.00\n",
            "Eval num_timesteps=80000, episode_reward=149.00 +/- 104.14\n",
            "Episode length: 644.80 +/- 218.28\n",
            "New best mean reward!\n",
            "Eval num_timesteps=81000, episode_reward=-0.28 +/- 107.68\n",
            "Episode length: 871.00 +/- 258.00\n",
            "Eval num_timesteps=82000, episode_reward=83.17 +/- 131.23\n",
            "Episode length: 864.60 +/- 261.89\n",
            "Eval num_timesteps=83000, episode_reward=7.63 +/- 47.08\n",
            "Episode length: 1000.00 +/- 0.00\n",
            "Eval num_timesteps=84000, episode_reward=29.95 +/- 98.33\n",
            "Episode length: 896.80 +/- 206.40\n",
            "Eval num_timesteps=85000, episode_reward=43.86 +/- 121.75\n",
            "Episode length: 868.00 +/- 249.75\n",
            "Eval num_timesteps=86000, episode_reward=146.76 +/- 98.78\n",
            "Episode length: 573.40 +/- 216.52\n",
            "Eval num_timesteps=87000, episode_reward=110.79 +/- 121.19\n",
            "Episode length: 716.40 +/- 329.50\n",
            "Eval num_timesteps=88000, episode_reward=32.38 +/- 118.52\n",
            "Episode length: 746.80 +/- 308.41\n",
            "Eval num_timesteps=89000, episode_reward=149.93 +/- 79.14\n",
            "Episode length: 726.20 +/- 217.78\n",
            "New best mean reward!\n",
            "Eval num_timesteps=90000, episode_reward=136.34 +/- 109.89\n",
            "Episode length: 619.60 +/- 311.82\n",
            "Eval num_timesteps=91000, episode_reward=89.89 +/- 136.36\n",
            "Episode length: 657.00 +/- 294.93\n",
            "Eval num_timesteps=92000, episode_reward=-10.10 +/- 133.30\n",
            "Episode length: 445.20 +/- 297.85\n",
            "Eval num_timesteps=93000, episode_reward=151.76 +/- 108.85\n",
            "Episode length: 713.40 +/- 198.51\n",
            "New best mean reward!\n",
            "Eval num_timesteps=94000, episode_reward=144.63 +/- 110.64\n",
            "Episode length: 522.60 +/- 247.19\n",
            "Eval num_timesteps=95000, episode_reward=56.93 +/- 142.71\n",
            "Episode length: 689.80 +/- 257.19\n",
            "Eval num_timesteps=96000, episode_reward=222.66 +/- 31.65\n",
            "Episode length: 607.20 +/- 295.31\n",
            "New best mean reward!\n",
            "Stopping training because the mean reward 222.66  is above the threshold 200\n",
            "CPU times: user 1h 2min 3s, sys: 20.3 s, total: 1h 2min 23s\n",
            "Wall time: 1h 2min 42s\n"
          ],
          "name": "stdout"
        },
        {
          "output_type": "execute_result",
          "data": {
            "text/plain": [
              "<stable_baselines3.sac.sac.SAC at 0x7ff8e33cbba8>"
            ]
          },
          "metadata": {
            "tags": []
          },
          "execution_count": 29
        }
      ]
    },
    {
      "cell_type": "code",
      "metadata": {
        "colab_type": "code",
        "id": "ln-5H8q0G0Fd",
        "outputId": "f89d77d4-69dd-4f25-d2fc-ae18290ecebc",
        "colab": {
          "base_uri": "https://localhost:8080/",
          "height": 585
        }
      },
      "source": [
        "# Evaluate the trained agent\n",
        "modelSAC = SAC.load(f\"{log_dir}/modelSAC_{env_name}\")\n",
        "\n",
        "results_plotter.plot_results(dirs=[log_dir], \n",
        "                             num_timesteps=None,\n",
        "                             x_axis=results_plotter.X_TIMESTEPS, \n",
        "                             task_name=f\"modelSAC_{env_name}\",\n",
        "                             figsize=(16,8))"
      ],
      "execution_count": 48,
      "outputs": [
        {
          "output_type": "display_data",
          "data": {
            "image/png": "[encoded data removed]",
            "text/plain": [
              "<Figure size 1152x576 with 1 Axes>"
            ]
          },
          "metadata": {
            "tags": [],
            "needs_background": "light"
          }
        }
      ]
    },
    {
      "cell_type": "markdown",
      "metadata": {
        "colab_type": "text",
        "id": "UKz1FLz7HFBC"
      },
      "source": [
        "# PPO"
      ]
    },
    {
      "cell_type": "code",
      "metadata": {
        "id": "6gZNgTvalWm9",
        "colab_type": "code",
        "colab": {
          "base_uri": "https://localhost:8080/",
          "height": 1000
        },
        "outputId": "dc78764a-9818-4ebb-eba7-059cd9e1c10d"
      },
      "source": [
        "%%time\n",
        "modelPPO = PPO('MlpPolicy', env)\n",
        "modelPPO.learn(total_timesteps=total_timesteps, \n",
        "               callback=callback)\n",
        "\n",
        "# Save the agent\n",
        "modelPPO.save(f\"{log_dir}/modelPPO_{env_name}\")\n",
        "del modelPPO"
      ],
      "execution_count": 49,
      "outputs": [
        {
          "output_type": "stream",
          "text": [
            "Eval num_timesteps=1000, episode_reward=-126.19 +/- 21.46\n",
            "Episode length: 75.20 +/- 13.09\n",
            "Eval num_timesteps=2000, episode_reward=-144.36 +/- 43.00\n",
            "Episode length: 72.60 +/- 11.72\n",
            "Eval num_timesteps=3000, episode_reward=-143.52 +/- 13.70\n",
            "Episode length: 63.60 +/- 11.00\n",
            "Eval num_timesteps=4000, episode_reward=-150.50 +/- 28.04\n",
            "Episode length: 73.00 +/- 11.51\n",
            "Eval num_timesteps=5000, episode_reward=-163.62 +/- 48.84\n",
            "Episode length: 72.80 +/- 7.44\n",
            "Eval num_timesteps=6000, episode_reward=-129.85 +/- 27.98\n",
            "Episode length: 74.40 +/- 12.88\n",
            "Eval num_timesteps=7000, episode_reward=-183.52 +/- 105.01\n",
            "Episode length: 109.00 +/- 17.81\n",
            "Eval num_timesteps=8000, episode_reward=-115.58 +/- 88.69\n",
            "Episode length: 78.80 +/- 18.02\n",
            "Eval num_timesteps=9000, episode_reward=-177.77 +/- 80.74\n",
            "Episode length: 81.40 +/- 17.43\n",
            "Eval num_timesteps=10000, episode_reward=-82.68 +/- 33.79\n",
            "Episode length: 83.40 +/- 13.76\n",
            "Eval num_timesteps=11000, episode_reward=-129.88 +/- 105.60\n",
            "Episode length: 114.80 +/- 14.08\n",
            "Eval num_timesteps=12000, episode_reward=-77.41 +/- 35.40\n",
            "Episode length: 92.60 +/- 15.64\n",
            "Eval num_timesteps=13000, episode_reward=-120.82 +/- 75.36\n",
            "Episode length: 148.80 +/- 58.17\n",
            "Eval num_timesteps=14000, episode_reward=-148.97 +/- 78.24\n",
            "Episode length: 159.60 +/- 36.78\n",
            "Eval num_timesteps=15000, episode_reward=-116.30 +/- 16.47\n",
            "Episode length: 175.00 +/- 40.78\n",
            "Eval num_timesteps=16000, episode_reward=-155.08 +/- 19.28\n",
            "Episode length: 158.00 +/- 36.85\n",
            "Eval num_timesteps=17000, episode_reward=-99.69 +/- 75.33\n",
            "Episode length: 301.40 +/- 350.23\n",
            "Eval num_timesteps=18000, episode_reward=-137.92 +/- 22.78\n",
            "Episode length: 190.80 +/- 53.21\n",
            "Eval num_timesteps=19000, episode_reward=-92.61 +/- 62.97\n",
            "Episode length: 199.60 +/- 49.92\n",
            "Eval num_timesteps=20000, episode_reward=-97.83 +/- 28.34\n",
            "Episode length: 140.20 +/- 27.68\n",
            "Eval num_timesteps=21000, episode_reward=-135.18 +/- 20.18\n",
            "Episode length: 166.20 +/- 61.02\n",
            "Eval num_timesteps=22000, episode_reward=-133.67 +/- 33.24\n",
            "Episode length: 183.00 +/- 83.72\n",
            "Eval num_timesteps=23000, episode_reward=-152.99 +/- 36.96\n",
            "Episode length: 166.00 +/- 37.72\n",
            "Eval num_timesteps=24000, episode_reward=-149.32 +/- 106.47\n",
            "Episode length: 254.40 +/- 110.25\n",
            "Eval num_timesteps=25000, episode_reward=-148.99 +/- 30.08\n",
            "Episode length: 138.20 +/- 26.19\n",
            "Eval num_timesteps=26000, episode_reward=-123.44 +/- 80.78\n",
            "Episode length: 206.20 +/- 42.76\n",
            "Eval num_timesteps=27000, episode_reward=-84.13 +/- 150.99\n",
            "Episode length: 204.40 +/- 88.38\n",
            "Eval num_timesteps=28000, episode_reward=-182.09 +/- 18.05\n",
            "Episode length: 188.40 +/- 38.00\n",
            "Eval num_timesteps=29000, episode_reward=-31.44 +/- 155.74\n",
            "Episode length: 358.60 +/- 202.63\n",
            "Eval num_timesteps=30000, episode_reward=-102.23 +/- 56.22\n",
            "Episode length: 230.60 +/- 39.81\n",
            "Eval num_timesteps=31000, episode_reward=-54.71 +/- 134.33\n",
            "Episode length: 257.60 +/- 95.82\n",
            "Eval num_timesteps=32000, episode_reward=-91.33 +/- 39.98\n",
            "Episode length: 195.00 +/- 37.73\n",
            "Eval num_timesteps=33000, episode_reward=-157.86 +/- 28.36\n",
            "Episode length: 199.20 +/- 90.33\n",
            "Eval num_timesteps=34000, episode_reward=-166.89 +/- 22.18\n",
            "Episode length: 180.60 +/- 31.72\n",
            "Eval num_timesteps=35000, episode_reward=-79.86 +/- 24.51\n",
            "Episode length: 268.40 +/- 76.37\n",
            "Eval num_timesteps=36000, episode_reward=-3.20 +/- 126.02\n",
            "Episode length: 252.00 +/- 86.26\n",
            "Eval num_timesteps=37000, episode_reward=-97.99 +/- 36.13\n",
            "Episode length: 169.40 +/- 30.00\n",
            "Eval num_timesteps=38000, episode_reward=-60.90 +/- 107.47\n",
            "Episode length: 224.80 +/- 126.12\n",
            "Eval num_timesteps=39000, episode_reward=-134.62 +/- 28.84\n",
            "Episode length: 188.60 +/- 29.43\n",
            "Eval num_timesteps=40000, episode_reward=-125.18 +/- 41.54\n",
            "Episode length: 150.40 +/- 27.54\n",
            "Eval num_timesteps=41000, episode_reward=-6.20 +/- 143.81\n",
            "Episode length: 196.00 +/- 59.14\n",
            "Eval num_timesteps=42000, episode_reward=9.58 +/- 117.51\n",
            "Episode length: 232.80 +/- 62.52\n",
            "Eval num_timesteps=43000, episode_reward=-46.05 +/- 122.83\n",
            "Episode length: 205.80 +/- 81.55\n",
            "Eval num_timesteps=44000, episode_reward=-75.34 +/- 36.69\n",
            "Episode length: 191.40 +/- 25.46\n",
            "Eval num_timesteps=45000, episode_reward=-21.41 +/- 113.55\n",
            "Episode length: 205.40 +/- 43.22\n",
            "Eval num_timesteps=46000, episode_reward=-57.56 +/- 50.00\n",
            "Episode length: 187.00 +/- 16.37\n",
            "Eval num_timesteps=47000, episode_reward=-40.92 +/- 78.72\n",
            "Episode length: 225.60 +/- 79.01\n",
            "Eval num_timesteps=48000, episode_reward=-41.13 +/- 130.72\n",
            "Episode length: 175.40 +/- 58.22\n",
            "Eval num_timesteps=49000, episode_reward=-122.39 +/- 39.10\n",
            "Episode length: 183.40 +/- 24.25\n",
            "Eval num_timesteps=50000, episode_reward=-93.12 +/- 34.65\n",
            "Episode length: 253.40 +/- 75.16\n",
            "Eval num_timesteps=51000, episode_reward=-33.55 +/- 120.68\n",
            "Episode length: 261.80 +/- 52.65\n",
            "Eval num_timesteps=52000, episode_reward=-1.05 +/- 125.54\n",
            "Episode length: 219.60 +/- 46.41\n",
            "Eval num_timesteps=53000, episode_reward=10.78 +/- 133.51\n",
            "Episode length: 217.40 +/- 49.43\n",
            "Eval num_timesteps=54000, episode_reward=-10.90 +/- 130.60\n",
            "Episode length: 205.20 +/- 57.36\n",
            "Eval num_timesteps=55000, episode_reward=10.29 +/- 77.51\n",
            "Episode length: 270.00 +/- 66.91\n",
            "Eval num_timesteps=56000, episode_reward=16.87 +/- 119.92\n",
            "Episode length: 230.60 +/- 76.42\n",
            "Eval num_timesteps=57000, episode_reward=93.39 +/- 126.90\n",
            "Episode length: 303.20 +/- 104.32\n",
            "Eval num_timesteps=58000, episode_reward=162.58 +/- 142.02\n",
            "Episode length: 340.40 +/- 66.92\n",
            "Eval num_timesteps=59000, episode_reward=15.45 +/- 125.15\n",
            "Episode length: 240.60 +/- 48.57\n",
            "Eval num_timesteps=60000, episode_reward=121.76 +/- 150.93\n",
            "Episode length: 267.60 +/- 87.66\n",
            "Eval num_timesteps=61000, episode_reward=11.96 +/- 119.64\n",
            "Episode length: 249.60 +/- 51.61\n",
            "Eval num_timesteps=62000, episode_reward=92.89 +/- 126.25\n",
            "Episode length: 282.20 +/- 69.02\n",
            "Eval num_timesteps=63000, episode_reward=138.13 +/- 91.72\n",
            "Episode length: 329.40 +/- 50.35\n",
            "Eval num_timesteps=64000, episode_reward=27.70 +/- 83.57\n",
            "Episode length: 203.00 +/- 78.01\n",
            "Eval num_timesteps=65000, episode_reward=128.10 +/- 113.24\n",
            "Episode length: 267.60 +/- 98.82\n",
            "Eval num_timesteps=66000, episode_reward=230.37 +/- 37.64\n",
            "Episode length: 336.60 +/- 42.47\n",
            "New best mean reward!\n",
            "Stopping training because the mean reward 230.37  is above the threshold 200\n",
            "CPU times: user 3min 55s, sys: 614 ms, total: 3min 56s\n",
            "Wall time: 3min 57s\n"
          ],
          "name": "stdout"
        }
      ]
    },
    {
      "cell_type": "code",
      "metadata": {
        "id": "W8hXzcC1mJYA",
        "colab_type": "code",
        "colab": {
          "base_uri": "https://localhost:8080/",
          "height": 621
        },
        "outputId": "4df88bfb-ae1e-4750-c745-f216437faa63"
      },
      "source": [
        "%%time\n",
        "# Evaluate the trained agent\n",
        "modelPPO = PPO.load(f\"{log_dir}/modelPPO_{env_name}\")\n",
        "\n",
        "results_plotter.plot_results(dirs=[log_dir], \n",
        "                             num_timesteps=None,\n",
        "                             x_axis=results_plotter.X_TIMESTEPS, \n",
        "                             task_name=f\"modelPPO_{env_name}\",\n",
        "                             figsize=(16,8))"
      ],
      "execution_count": 50,
      "outputs": [
        {
          "output_type": "stream",
          "text": [
            "CPU times: user 102 ms, sys: 56.1 ms, total: 158 ms\n",
            "Wall time: 94.2 ms\n"
          ],
          "name": "stdout"
        },
        {
          "output_type": "display_data",
          "data": {
            "image/png": "[encoded data removed]",
            "text/plain": [
              "<Figure size 1152x576 with 1 Axes>"
            ]
          },
          "metadata": {
            "tags": [],
            "needs_background": "light"
          }
        }
      ]
    },
    {
      "cell_type": "markdown",
      "metadata": {
        "colab_type": "text",
        "id": "tn3hH0c0HKCP"
      },
      "source": [
        "# TD3"
      ]
    },
    {
      "cell_type": "code",
      "metadata": {
        "id": "6dHiH9OLlagp",
        "colab_type": "code",
        "colab": {
          "base_uri": "https://localhost:8080/",
          "height": 1000
        },
        "outputId": "adb0169c-ca49-4932-83aa-d2076803d609"
      },
      "source": [
        "%%time\n",
        "modelTD3 = TD3('MlpPolicy', env)\n",
        "modelTD3.learn(total_timesteps=total_timesteps, \n",
        "               callback=callback)\n",
        "\n",
        "# Save the agent\n",
        "modelTD3.save(f\"{log_dir}/modelTD3_{env_name}\")\n",
        "del modelTD3"
      ],
      "execution_count": 0,
      "outputs": [
        {
          "output_type": "stream",
          "text": [
            "Eval num_timesteps=1000, episode_reward=-495.36 +/- 60.12\n",
            "Episode length: 138.40 +/- 15.70\n",
            "Eval num_timesteps=2000, episode_reward=-349.59 +/- 62.77\n",
            "Episode length: 120.40 +/- 13.97\n",
            "Eval num_timesteps=3000, episode_reward=-253.01 +/- 27.87\n",
            "Episode length: 130.60 +/- 14.89\n",
            "Eval num_timesteps=4000, episode_reward=-179.95 +/- 145.70\n",
            "Episode length: 144.80 +/- 33.44\n",
            "Eval num_timesteps=5000, episode_reward=-303.87 +/- 106.42\n",
            "Episode length: 173.40 +/- 23.02\n",
            "Eval num_timesteps=6000, episode_reward=-363.01 +/- 79.32\n",
            "Episode length: 319.60 +/- 88.71\n",
            "Eval num_timesteps=7000, episode_reward=-183.72 +/- 46.05\n",
            "Episode length: 305.80 +/- 99.76\n",
            "Eval num_timesteps=8000, episode_reward=-123.17 +/- 53.91\n",
            "Episode length: 192.20 +/- 26.98\n",
            "Eval num_timesteps=9000, episode_reward=-168.90 +/- 133.35\n",
            "Episode length: 178.80 +/- 37.15\n",
            "Eval num_timesteps=10000, episode_reward=-269.42 +/- 115.93\n",
            "Episode length: 241.80 +/- 75.22\n",
            "Eval num_timesteps=11000, episode_reward=-92.73 +/- 42.22\n",
            "Episode length: 158.60 +/- 26.13\n",
            "Eval num_timesteps=12000, episode_reward=-105.76 +/- 43.78\n",
            "Episode length: 147.40 +/- 19.62\n",
            "Eval num_timesteps=13000, episode_reward=-91.45 +/- 74.75\n",
            "Episode length: 160.60 +/- 32.98\n",
            "Eval num_timesteps=14000, episode_reward=-159.39 +/- 176.37\n",
            "Episode length: 160.80 +/- 30.13\n",
            "Eval num_timesteps=15000, episode_reward=-101.75 +/- 51.93\n",
            "Episode length: 210.20 +/- 13.79\n",
            "Eval num_timesteps=16000, episode_reward=-213.40 +/- 56.64\n",
            "Episode length: 327.80 +/- 68.79\n",
            "Eval num_timesteps=17000, episode_reward=-232.30 +/- 14.07\n",
            "Episode length: 325.20 +/- 87.09\n",
            "Eval num_timesteps=18000, episode_reward=-105.18 +/- 29.55\n",
            "Episode length: 352.20 +/- 103.70\n",
            "Eval num_timesteps=19000, episode_reward=-104.54 +/- 18.22\n",
            "Episode length: 340.20 +/- 91.70\n",
            "Eval num_timesteps=20000, episode_reward=-85.85 +/- 47.36\n",
            "Episode length: 334.00 +/- 91.71\n",
            "Eval num_timesteps=21000, episode_reward=-231.25 +/- 190.64\n",
            "Episode length: 444.60 +/- 200.05\n",
            "Eval num_timesteps=22000, episode_reward=-154.17 +/- 113.95\n",
            "Episode length: 557.20 +/- 270.55\n",
            "Eval num_timesteps=23000, episode_reward=-231.13 +/- 34.91\n",
            "Episode length: 1000.00 +/- 0.00\n",
            "Eval num_timesteps=24000, episode_reward=-234.49 +/- 73.11\n",
            "Episode length: 437.40 +/- 147.00\n",
            "Eval num_timesteps=25000, episode_reward=-57.34 +/- 41.91\n",
            "Episode length: 340.80 +/- 226.86\n",
            "Eval num_timesteps=26000, episode_reward=-137.49 +/- 100.12\n",
            "Episode length: 429.60 +/- 147.86\n",
            "Eval num_timesteps=27000, episode_reward=-250.25 +/- 119.73\n",
            "Episode length: 855.20 +/- 142.08\n",
            "Eval num_timesteps=28000, episode_reward=-254.16 +/- 67.53\n",
            "Episode length: 855.20 +/- 177.53\n",
            "Eval num_timesteps=29000, episode_reward=-177.35 +/- 24.76\n",
            "Episode length: 475.00 +/- 105.78\n",
            "Eval num_timesteps=30000, episode_reward=-202.08 +/- 54.36\n",
            "Episode length: 573.40 +/- 280.72\n",
            "Eval num_timesteps=31000, episode_reward=-137.98 +/- 14.88\n",
            "Episode length: 1000.00 +/- 0.00\n",
            "Eval num_timesteps=32000, episode_reward=-101.65 +/- 14.52\n",
            "Episode length: 1000.00 +/- 0.00\n",
            "Eval num_timesteps=33000, episode_reward=-145.60 +/- 17.66\n",
            "Episode length: 859.00 +/- 14.71\n",
            "Eval num_timesteps=34000, episode_reward=-168.42 +/- 37.59\n",
            "Episode length: 725.00 +/- 59.17\n",
            "Eval num_timesteps=35000, episode_reward=-137.86 +/- 18.60\n",
            "Episode length: 1000.00 +/- 0.00\n",
            "Eval num_timesteps=36000, episode_reward=-117.27 +/- 11.06\n",
            "Episode length: 1000.00 +/- 0.00\n",
            "Eval num_timesteps=37000, episode_reward=-173.66 +/- 67.10\n",
            "Episode length: 900.40 +/- 199.20\n",
            "Eval num_timesteps=38000, episode_reward=-160.09 +/- 13.18\n",
            "Episode length: 1000.00 +/- 0.00\n",
            "Eval num_timesteps=39000, episode_reward=-127.32 +/- 25.03\n",
            "Episode length: 1000.00 +/- 0.00\n",
            "Eval num_timesteps=40000, episode_reward=-255.09 +/- 55.88\n",
            "Episode length: 927.00 +/- 74.09\n",
            "Eval num_timesteps=41000, episode_reward=-224.63 +/- 43.10\n",
            "Episode length: 382.80 +/- 125.78\n",
            "Eval num_timesteps=42000, episode_reward=-179.93 +/- 55.31\n",
            "Episode length: 415.00 +/- 140.57\n",
            "Eval num_timesteps=43000, episode_reward=-156.37 +/- 90.48\n",
            "Episode length: 409.00 +/- 93.79\n",
            "Eval num_timesteps=44000, episode_reward=-137.98 +/- 55.35\n",
            "Episode length: 275.80 +/- 98.38\n",
            "Eval num_timesteps=45000, episode_reward=-180.60 +/- 83.53\n",
            "Episode length: 315.00 +/- 47.45\n",
            "Eval num_timesteps=46000, episode_reward=-140.92 +/- 59.35\n",
            "Episode length: 206.60 +/- 50.37\n",
            "Eval num_timesteps=47000, episode_reward=-162.76 +/- 69.73\n",
            "Episode length: 193.20 +/- 47.69\n",
            "Eval num_timesteps=48000, episode_reward=-268.56 +/- 155.77\n",
            "Episode length: 180.60 +/- 60.88\n",
            "Eval num_timesteps=49000, episode_reward=-302.38 +/- 76.20\n",
            "Episode length: 339.20 +/- 197.56\n",
            "Eval num_timesteps=50000, episode_reward=-154.48 +/- 49.96\n",
            "Episode length: 846.60 +/- 306.80\n",
            "Eval num_timesteps=51000, episode_reward=-168.33 +/- 65.05\n",
            "Episode length: 543.40 +/- 379.09\n",
            "Eval num_timesteps=52000, episode_reward=-111.29 +/- 35.10\n",
            "Episode length: 885.60 +/- 228.80\n",
            "Eval num_timesteps=53000, episode_reward=-199.02 +/- 99.44\n",
            "Episode length: 460.40 +/- 141.28\n",
            "Eval num_timesteps=54000, episode_reward=-173.76 +/- 66.15\n",
            "Episode length: 707.00 +/- 307.53\n",
            "Eval num_timesteps=55000, episode_reward=-163.96 +/- 63.00\n",
            "Episode length: 805.00 +/- 298.64\n",
            "Eval num_timesteps=56000, episode_reward=-169.56 +/- 67.42\n",
            "Episode length: 679.20 +/- 277.16\n",
            "Eval num_timesteps=57000, episode_reward=-181.30 +/- 71.87\n",
            "Episode length: 786.20 +/- 198.57\n",
            "Eval num_timesteps=58000, episode_reward=-192.25 +/- 91.02\n",
            "Episode length: 447.60 +/- 171.38\n",
            "Eval num_timesteps=59000, episode_reward=-219.91 +/- 117.90\n",
            "Episode length: 836.20 +/- 129.06\n",
            "Eval num_timesteps=60000, episode_reward=-136.29 +/- 16.25\n",
            "Episode length: 928.40 +/- 91.45\n",
            "Eval num_timesteps=61000, episode_reward=-118.26 +/- 16.67\n",
            "Episode length: 1000.00 +/- 0.00\n",
            "Eval num_timesteps=62000, episode_reward=-159.53 +/- 34.66\n",
            "Episode length: 828.60 +/- 342.80\n",
            "Eval num_timesteps=63000, episode_reward=-206.71 +/- 56.35\n",
            "Episode length: 689.80 +/- 379.93\n",
            "Eval num_timesteps=64000, episode_reward=-124.37 +/- 19.59\n",
            "Episode length: 831.40 +/- 337.20\n",
            "Eval num_timesteps=65000, episode_reward=-164.55 +/- 44.11\n",
            "Episode length: 670.40 +/- 405.01\n",
            "Eval num_timesteps=66000, episode_reward=-136.68 +/- 22.17\n",
            "Episode length: 1000.00 +/- 0.00\n",
            "Eval num_timesteps=67000, episode_reward=-131.91 +/- 11.92\n",
            "Episode length: 652.20 +/- 426.00\n",
            "Eval num_timesteps=68000, episode_reward=-69.63 +/- 61.08\n",
            "Episode length: 655.20 +/- 297.95\n",
            "Eval num_timesteps=69000, episode_reward=-101.91 +/- 14.91\n",
            "Episode length: 1000.00 +/- 0.00\n",
            "Eval num_timesteps=70000, episode_reward=-113.93 +/- 33.11\n",
            "Episode length: 612.80 +/- 317.45\n",
            "Eval num_timesteps=71000, episode_reward=-122.28 +/- 62.94\n",
            "Episode length: 364.20 +/- 335.60\n"
          ],
          "name": "stdout"
        }
      ]
    },
    {
      "cell_type": "code",
      "metadata": {
        "id": "0DPiHLzklxUL",
        "colab_type": "code",
        "colab": {}
      },
      "source": [
        "%%time\n",
        "# Evaluate the trained agent\n",
        "modelTD3 = TD3.load(f\"{log_dir}/modelTD3_{env_name}\")\n",
        "\n",
        "results_plotter.plot_results(dirs=[log_dir], \n",
        "                             num_timesteps=None,\n",
        "                             x_axis=results_plotter.X_TIMESTEPS, \n",
        "                             task_name=f\"modelTD3_{env_name}\",\n",
        "                             figsize=(16,8))"
      ],
      "execution_count": 0,
      "outputs": []
    },
    {
      "cell_type": "markdown",
      "metadata": {
        "colab_type": "text",
        "id": "aoZ0KicdHP67"
      },
      "source": [
        "# Record agents in action\n"
      ]
    },
    {
      "cell_type": "code",
      "metadata": {
        "colab_type": "code",
        "id": "-38PJcHlHPWM",
        "colab": {}
      },
      "source": [
        "# Set up fake display; otherwise rendering will fail\n",
        "import os\n",
        "os.system(\"Xvfb :1 -screen 0 1024x768x24 &\")\n",
        "os.environ['DISPLAY'] = ':1'\n",
        "\n",
        "import base64\n",
        "from pathlib import Path\n",
        "\n",
        "from IPython import display as ipythondisplay\n",
        "\n",
        "def show_videos(video_path='', prefix=''):\n",
        "  \"\"\"\n",
        "  Taken from https://github.com/eleurent/highway-env\n",
        "\n",
        "  :param video_path: (str) Path to the folder containing videos\n",
        "  :param prefix: (str) Filter the video, showing only the only starting with this prefix\n",
        "  \"\"\"\n",
        "  html = []\n",
        "  for mp4 in Path(video_path).glob(\"{}*.mp4\".format(prefix)):\n",
        "      video_b64 = base64.b64encode(mp4.read_bytes())\n",
        "      html.append('''<video alt=\"{}\" autoplay \n",
        "                    loop controls style=\"height: 400px;\">\n",
        "                    <source src=\"data:video/mp4;base64,{}\" type=\"video/mp4\" />\n",
        "                </video>'''.format(mp4, video_b64.decode('ascii')))\n",
        "  ipythondisplay.display(ipythondisplay.HTML(data=\"<br>\".join(html)))\n",
        "\n",
        "\n",
        "from stable_baselines3.common.vec_env import VecVideoRecorder, DummyVecEnv\n",
        "\n",
        "def record_video(env_id, model, video_length=500, prefix='', video_folder='videos/'):\n",
        "  \"\"\"\n",
        "  :param env_id: (str)\n",
        "  :param model: (RL model)\n",
        "  :param video_length: (int)\n",
        "  :param prefix: (str)\n",
        "  :param video_folder: (str)\n",
        "  \"\"\"\n",
        "  eval_env = DummyVecEnv([lambda: gym.make(env_id)])\n",
        "  # Start the video at step=0 and record 500 steps\n",
        "  eval_env = VecVideoRecorder(eval_env, video_folder=video_folder,\n",
        "                              record_video_trigger=lambda step: step == 0, video_length=video_length,\n",
        "                              name_prefix=prefix)\n",
        "\n",
        "  obs = eval_env.reset()\n",
        "  for _ in range(video_length):\n",
        "    action, _ = model.predict(obs)\n",
        "    obs, _, _, _ = eval_env.step(action)\n",
        "\n",
        "  # Close the video recorder\n",
        "  eval_env.close()"
      ],
      "execution_count": 0,
      "outputs": []
    },
    {
      "cell_type": "code",
      "metadata": {
        "colab_type": "code",
        "id": "q-iHFGyKHYSh",
        "outputId": "94addb7c-e97c-4e6f-ce01-c271544d82ab",
        "colab": {
          "base_uri": "https://localhost:8080/",
          "height": 35
        }
      },
      "source": [
        "#video_folder = f\"{env_name}_output\"\n",
        "video_folder = log_dir\n",
        "\n",
        "record_video(env_name, modelTD3, video_length=1000, prefix=f'td3_{env_name}', video_folder=video_folder)\n",
        "record_video(env_name, modelPPO, video_length=1000, prefix=f'ppo_{env_name}', video_folder=video_folder)\n",
        "record_video(env_name, modelSAC, video_length=1000, prefix=f'sac_{env_name}', video_folder=video_folder)"
      ],
      "execution_count": 45,
      "outputs": [
        {
          "output_type": "stream",
          "text": [
            "Saving video to  /content/gym/LunarLanderContinuous-v2/sac_LunarLanderContinuous-v2-step-0-to-step-1000.mp4\n"
          ],
          "name": "stdout"
        }
      ]
    },
    {
      "cell_type": "code",
      "metadata": {
        "colab_type": "code",
        "id": "owcltuOZHe4w",
        "colab": {}
      },
      "source": [
        "show_videos(video_folder, prefix=f'sac_{env_name}')"
      ],
      "execution_count": 0,
      "outputs": []
    },
    {
      "cell_type": "code",
      "metadata": {
        "colab_type": "code",
        "id": "1V7uxa-WHhls",
        "colab": {}
      },
      "source": [
        "show_videos(video_folder, prefix=f'td3_{env_name}')"
      ],
      "execution_count": 0,
      "outputs": []
    },
    {
      "cell_type": "code",
      "metadata": {
        "colab_type": "code",
        "id": "TNJAZmmJHgZX",
        "colab": {}
      },
      "source": [
        "show_videos(video_folder, prefix=f'ppo_{env_name}')"
      ],
      "execution_count": 0,
      "outputs": []
    },
    {
      "cell_type": "code",
      "metadata": {
        "colab_type": "code",
        "id": "bGSXQ0A8HlyJ",
        "outputId": "825709e1-dfb7-4d2c-a685-1f26a88219ef",
        "colab": {
          "base_uri": "https://localhost:8080/",
          "height": 35
        }
      },
      "source": [
        "# os.system(f\"mv modelPPO_{env_name}.zip {video_folder}\")\n",
        "# os.system(f\"mv modelSAC_{env_name}.zip {video_folder}\")\n",
        "# os.system(f\"mv modelTD3_{env_name}.zip {video_folder}\")"
      ],
      "execution_count": 0,
      "outputs": [
        {
          "output_type": "execute_result",
          "data": {
            "text/plain": [
              "0"
            ]
          },
          "metadata": {
            "tags": []
          },
          "execution_count": 59
        }
      ]
    },
    {
      "cell_type": "code",
      "metadata": {
        "colab_type": "code",
        "id": "jQpF0dwmvt74",
        "outputId": "0a41cebc-d35a-4d30-c3bc-14a02f381c49",
        "colab": {
          "base_uri": "https://localhost:8080/",
          "height": 35
        }
      },
      "source": [
        "os.system(f\"tar -cvzf {video_folder}.tar.gz {video_folder}\")"
      ],
      "execution_count": 0,
      "outputs": [
        {
          "output_type": "execute_result",
          "data": {
            "text/plain": [
              "0"
            ]
          },
          "metadata": {
            "tags": []
          },
          "execution_count": 60
        }
      ]
    },
    {
      "cell_type": "code",
      "metadata": {
        "colab_type": "code",
        "id": "oWIpHC_quV-K",
        "colab": {}
      },
      "source": [
        "import time\n",
        "time.sleep(30)"
      ],
      "execution_count": 0,
      "outputs": []
    },
    {
      "cell_type": "code",
      "metadata": {
        "colab_type": "code",
        "id": "g4eHpr4fvlgY",
        "colab": {}
      },
      "source": [
        "from google.colab import files\n",
        "files.download(f'/content/{video_folder}.tar.gz')"
      ],
      "execution_count": 0,
      "outputs": []
    },
    {
      "cell_type": "code",
      "metadata": {
        "colab_type": "code",
        "id": "C5xPyMT4rpxh",
        "colab": {}
      },
      "source": [
        "#%%bash\n",
        "#rm -rf /content/*"
      ],
      "execution_count": 0,
      "outputs": []
    }
  ]
}